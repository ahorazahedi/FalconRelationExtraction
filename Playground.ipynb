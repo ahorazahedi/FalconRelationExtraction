{
 "cells": [
  {
   "cell_type": "code",
   "execution_count": 14,
   "metadata": {},
   "outputs": [],
   "source": [
    "import json\n",
    "import pandas as pd\n",
    "\n",
    "def convert_to_format(data):\n",
    "    output = []\n",
    "    for p_index ,  passage in enumerate(data[\"passages\"]):\n",
    "            formated_annotaions = {}\n",
    "            formatted_data = []\n",
    "            passage_text = passage['text']\n",
    "        \n",
    "            for annotation in passage[\"annotations\"]:\n",
    "                identifier = annotation[\"infons\"][\"identifier\"] \n",
    "                text = annotation[\"text\"]\n",
    "                category = annotation[\"infons\"][\"type\"]\n",
    "                formated_annotaions[identifier] = (text , category , p_index)\n",
    "    \n",
    "    \n",
    "            for relation in data[\"relations\"]:\n",
    "                \n",
    "                entity1_id = relation[\"infons\"][\"entity1\"]\n",
    "                entity2_id = relation[\"infons\"][\"entity2\"]\n",
    "                relation_type = relation[\"infons\"][\"type\"]\n",
    "                \n",
    "                head , tail  = None , None\n",
    "                \n",
    "                if entity1_id in formated_annotaions:\n",
    "                    head = formated_annotaions[entity1_id][0]\n",
    "                    head_type = formated_annotaions[entity1_id][1]\n",
    "                \n",
    "                if entity2_id in formated_annotaions:                    \n",
    "                    tail = formated_annotaions[entity2_id][0]\n",
    "                    tail_type = formated_annotaions[entity2_id][1]\n",
    "                \n",
    "                if head and tail:\n",
    "                    formatted_data.append((f\"({head} [{head_type}], {relation_type}, {tail} [{tail_type}])\"  ))\n",
    "                \n",
    "            \n",
    "            formated_relation_text = \",\".join(formatted_data)\n",
    "            output.append((passage_text , formated_relation_text))\n",
    "            # else:\n",
    "            #     print(\"2 Hop Text\")\n",
    "                    \n",
    "    \n",
    "    return output\n",
    "\n",
    "with open('./BioRED/Test.BioC.JSON', 'r') as json_file:\n",
    "    data = json.load(json_file)\n",
    "\n",
    "result = []\n",
    "for document in data['documents'] : \n",
    "    formatted_data = convert_to_format(document)\n",
    "    result.extend(formatted_data)\n",
    "    \n",
    "df = pd.DataFrame(result , columns=[\"text\" , \"relations\"])\n",
    "df.head()\n",
    "df.to_csv('./test.csv')"
   ]
  },
  {
   "cell_type": "code",
   "execution_count": 9,
   "metadata": {},
   "outputs": [
    {
     "data": {
      "text/plain": [
       "800"
      ]
     },
     "execution_count": 9,
     "metadata": {},
     "output_type": "execute_result"
    }
   ],
   "source": [
    "len(result)"
   ]
  },
  {
   "cell_type": "code",
   "execution_count": 10,
   "metadata": {},
   "outputs": [
    {
     "data": {
      "text/plain": [
       "('The phosphatidylethanolamine N-methyltransferase gene V175M single nucleotide polymorphism confers the susceptibility to NASH in Japanese population.',\n",
       " '(phosphatidylethanolamine N-methyltransferase [GeneOrGeneProduct], Association, NASH [DiseaseOrPhenotypicFeature]),(V175M [SequenceVariant], Positive_Correlation, NASH [DiseaseOrPhenotypicFeature])')"
      ]
     },
     "execution_count": 10,
     "metadata": {},
     "output_type": "execute_result"
    }
   ],
   "source": [
    "result[44]"
   ]
  },
  {
   "cell_type": "code",
   "execution_count": 12,
   "metadata": {},
   "outputs": [],
   "source": []
  },
  {
   "cell_type": "code",
   "execution_count": null,
   "metadata": {},
   "outputs": [],
   "source": []
  }
 ],
 "metadata": {
  "kernelspec": {
   "display_name": "Python 3",
   "language": "python",
   "name": "python3"
  },
  "language_info": {
   "codemirror_mode": {
    "name": "ipython",
    "version": 3
   },
   "file_extension": ".py",
   "mimetype": "text/x-python",
   "name": "python",
   "nbconvert_exporter": "python",
   "pygments_lexer": "ipython3",
   "version": "3.10.12"
  },
  "orig_nbformat": 4
 },
 "nbformat": 4,
 "nbformat_minor": 2
}
